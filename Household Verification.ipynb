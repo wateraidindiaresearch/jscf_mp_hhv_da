{
 "cells": [
  {
   "cell_type": "code",
   "execution_count": 1,
   "metadata": {},
   "outputs": [],
   "source": [
    "\"\"\"import the libraries required\"\"\"\n",
    "import pandas as pd\n",
    "import string\n",
    "import matplotlib.pyplot as plt\n",
    "import numpy as np"
   ]
  },
  {
   "cell_type": "code",
   "execution_count": 2,
   "metadata": {},
   "outputs": [],
   "source": [
    "\"\"\"Meta Data\"\"\"\n",
    "\"\"\"Define Categories of the Data\"\"\"\n",
    "cat_type_yes_no_h = pd.CategoricalDtype(categories=[\"हाँ\", \"नहीं\"], ordered=False)\n",
    "cat_type_eco_status = pd.CategoricalDtype(categories=[\"BPL\", \"APL\"], ordered=False)\n",
    "cat_type_sub_cat = pd.CategoricalDtype(categories=[\"Small & Marginal Farmers\", \n",
    "                                                   \"Other\",\n",
    "                                                  \"GENERAL\",\n",
    "                                                  \"ST\",\n",
    "                                                  \"SC\",\n",
    "                                                  \"Landless with homestead\",\n",
    "                                                   \"Women Headed HH\",\n",
    "                                                   \"PH\"], ordered=False)\n",
    "cat_type_toilet_type_h = pd.CategoricalDtype(categories=[\"दो गड्ढे वाला\",\n",
    "                                                       \"सेप्टिक टैंक\",\n",
    "                                                       \"एक गड्ढे वाला\",\n",
    "                                                       \"उपलब्ध नहीं है\",\n",
    "                                                       \"सोखते गड्ढे के साथ सेप्टिक टैंक\",\n",
    "                                                       \"बायो-शौचालय\"], ordered=False)\n",
    "cat_type_water_source_type_h = pd.CategoricalDtype(categories=[\"हैंडपंप\",\n",
    "                                                         \"कुआँ\",\n",
    "                                                         \"नल-जल\",\n",
    "                                                         \"उपलब्ध नहीं है\",\n",
    "                                                         \"पानी का कोई स्त्रोत नहीं\",\n",
    "                                                         \"तालाब\"], ordered=False)"
   ]
  },
  {
   "cell_type": "code",
   "execution_count": 3,
   "metadata": {},
   "outputs": [],
   "source": [
    "\"\"\"Define the columns (if file does not have header row)\"\"\"\n",
    "col_names = [\"District\",\n",
    "             \"Janpad\",\n",
    "             \"Gram Panchayat\",\n",
    "             \"Village\",\n",
    "             \"Name of head of household\",\n",
    "             \"GOI ID\", \n",
    "             \"Column_1\", \n",
    "             \"Economic status\",\n",
    "             \"Sub-category\",\n",
    "             \"Has Toilet\",\n",
    "             \"Type of toilet\",\n",
    "             \"Has Water Source\",\n",
    "             \"Water source\"]"
   ]
  },
  {
   "cell_type": "code",
   "execution_count": 4,
   "metadata": {},
   "outputs": [],
   "source": [
    "\"\"\"Define the data types for the columns\"\"\"\n",
    "col_types =                           {\"District\":'category',\n",
    "                                      \"Janpad\":'category',\n",
    "                                      \"Gram Panchayat\":'category', \n",
    "                                      \"Village\":'category', \n",
    "                                      \"Name of head of household\":str, \n",
    "                                      \"GOI ID\":str, \n",
    "                                      \"Column_1\":str, \n",
    "                                      \"Economic status\":cat_type_eco_status, \n",
    "                                      \"Sub-category\":cat_type_sub_cat,\n",
    "                                      \"Has Toilet\":cat_type_yes_no_h,\n",
    "                                      \"Type of toilet\":cat_type_toilet_type_h,\n",
    "                                      \"Has Water Source\":cat_type_yes_no_h,\n",
    "                                      \"Water source\":cat_type_water_source_type_h}"
   ]
  },
  {
   "cell_type": "code",
   "execution_count": 5,
   "metadata": {},
   "outputs": [],
   "source": [
    "\"Read the CSV File as a dataframe\"\n",
    "raw_data = pd.read_csv(\"D:\\\\My Freelancing Projects\\\\Water Aid\\\\Jal Shakti Charitable Foundation - Data Cleaning and Analysis\\\\Data Playground\\\\MP Gov\\\\verification_data.csv\",\n",
    "                               header=None,\n",
    "                               names=col_names,\n",
    "                               dtype=col_types,\n",
    "                               index_col=False)"
   ]
  },
  {
   "cell_type": "markdown",
   "metadata": {},
   "source": [
    "# Section 1: Information about the file - \n",
    "\n",
    "1. Total records (RangeIndex)\n",
    "2. Number of Columns (Data Columns)\n",
    "3. Column Names and Data Type"
   ]
  },
  {
   "cell_type": "code",
   "execution_count": 6,
   "metadata": {},
   "outputs": [
    {
     "name": "stdout",
     "output_type": "stream",
     "text": [
      "<class 'pandas.core.frame.DataFrame'>\n",
      "RangeIndex: 8831779 entries, 0 to 8831778\n",
      "Data columns (total 13 columns):\n",
      "District                     category\n",
      "Janpad                       category\n",
      "Gram Panchayat               category\n",
      "Village                      category\n",
      "Name of head of household    object\n",
      "GOI ID                       object\n",
      "Column_1                     object\n",
      "Economic status              category\n",
      "Sub-category                 category\n",
      "Has Toilet                   category\n",
      "Type of toilet               category\n",
      "Has Water Source             category\n",
      "Water source                 category\n",
      "dtypes: category(10), object(3)\n",
      "memory usage: 330.8+ MB\n"
     ]
    }
   ],
   "source": [
    "\"\"\"Check the file information\"\"\"\n",
    "raw_data.info()"
   ]
  },
  {
   "cell_type": "markdown",
   "metadata": {},
   "source": [
    "# Section 2: Snapshot of the data - \n",
    "1. Count - Total number of items in each column\n",
    "2. Unique - Total number of Unique Items. E.g. Unique count for District = 51 implies that data from 51 districts\n",
    "3. Top* - Most frequent value\n",
    "4. Frequency* - Number of times the most frequent value has appeared \n",
    "\n",
    "*Not relevant for analysis here"
   ]
  },
  {
   "cell_type": "code",
   "execution_count": 7,
   "metadata": {
    "scrolled": true
   },
   "outputs": [
    {
     "data": {
      "text/html": [
       "<div>\n",
       "<style scoped>\n",
       "    .dataframe tbody tr th:only-of-type {\n",
       "        vertical-align: middle;\n",
       "    }\n",
       "\n",
       "    .dataframe tbody tr th {\n",
       "        vertical-align: top;\n",
       "    }\n",
       "\n",
       "    .dataframe thead th {\n",
       "        text-align: right;\n",
       "    }\n",
       "</style>\n",
       "<table border=\"1\" class=\"dataframe\">\n",
       "  <thead>\n",
       "    <tr style=\"text-align: right;\">\n",
       "      <th></th>\n",
       "      <th>District</th>\n",
       "      <th>Janpad</th>\n",
       "      <th>Gram Panchayat</th>\n",
       "      <th>Village</th>\n",
       "      <th>Name of head of household</th>\n",
       "      <th>GOI ID</th>\n",
       "      <th>Column_1</th>\n",
       "      <th>Economic status</th>\n",
       "      <th>Sub-category</th>\n",
       "      <th>Has Toilet</th>\n",
       "      <th>Type of toilet</th>\n",
       "      <th>Has Water Source</th>\n",
       "      <th>Water source</th>\n",
       "    </tr>\n",
       "  </thead>\n",
       "  <tbody>\n",
       "    <tr>\n",
       "      <th>count</th>\n",
       "      <td>8831779</td>\n",
       "      <td>8831779</td>\n",
       "      <td>8831779</td>\n",
       "      <td>8831779</td>\n",
       "      <td>8831779</td>\n",
       "      <td>8831779</td>\n",
       "      <td>0.0</td>\n",
       "      <td>8831779</td>\n",
       "      <td>8831779</td>\n",
       "      <td>8831779</td>\n",
       "      <td>8831779</td>\n",
       "      <td>8831779</td>\n",
       "      <td>8831779</td>\n",
       "    </tr>\n",
       "    <tr>\n",
       "      <th>unique</th>\n",
       "      <td>51</td>\n",
       "      <td>311</td>\n",
       "      <td>19494</td>\n",
       "      <td>37976</td>\n",
       "      <td>3791228</td>\n",
       "      <td>8763390</td>\n",
       "      <td>0.0</td>\n",
       "      <td>2</td>\n",
       "      <td>8</td>\n",
       "      <td>2</td>\n",
       "      <td>6</td>\n",
       "      <td>2</td>\n",
       "      <td>6</td>\n",
       "    </tr>\n",
       "    <tr>\n",
       "      <th>top</th>\n",
       "      <td>REWA</td>\n",
       "      <td>BURHANPUR</td>\n",
       "      <td>DEORI</td>\n",
       "      <td>Pipariya</td>\n",
       "      <td>Ram Singh</td>\n",
       "      <td>192984102</td>\n",
       "      <td>NaN</td>\n",
       "      <td>BPL</td>\n",
       "      <td>ST</td>\n",
       "      <td>हाँ</td>\n",
       "      <td>एक गड्ढे वाला</td>\n",
       "      <td>हाँ</td>\n",
       "      <td>हैंडपंप</td>\n",
       "    </tr>\n",
       "    <tr>\n",
       "      <th>freq</th>\n",
       "      <td>348769</td>\n",
       "      <td>72138</td>\n",
       "      <td>9264</td>\n",
       "      <td>12369</td>\n",
       "      <td>8643</td>\n",
       "      <td>52</td>\n",
       "      <td>NaN</td>\n",
       "      <td>4479838</td>\n",
       "      <td>2203392</td>\n",
       "      <td>8376583</td>\n",
       "      <td>3758955</td>\n",
       "      <td>7839744</td>\n",
       "      <td>4613804</td>\n",
       "    </tr>\n",
       "  </tbody>\n",
       "</table>\n",
       "</div>"
      ],
      "text/plain": [
       "       District      Janpad Gram Panchayat   Village  \\\n",
       "count   8831779     8831779        8831779   8831779   \n",
       "unique       51         311          19494     37976   \n",
       "top        REWA   BURHANPUR          DEORI  Pipariya   \n",
       "freq     348769       72138           9264     12369   \n",
       "\n",
       "       Name of head of household     GOI ID  Column_1 Economic status  \\\n",
       "count                    8831779    8831779       0.0         8831779   \n",
       "unique                   3791228    8763390       0.0               2   \n",
       "top                    Ram Singh  192984102       NaN             BPL   \n",
       "freq                        8643         52       NaN         4479838   \n",
       "\n",
       "       Sub-category Has Toilet Type of toilet Has Water Source Water source  \n",
       "count       8831779    8831779        8831779          8831779      8831779  \n",
       "unique            8          2              6                2            6  \n",
       "top              ST        हाँ  एक गड्ढे वाला              हाँ      हैंडपंप  \n",
       "freq        2203392    8376583        3758955          7839744      4613804  "
      ]
     },
     "execution_count": 7,
     "metadata": {},
     "output_type": "execute_result"
    }
   ],
   "source": [
    "\"\"\"Description about the data\"\"\"\n",
    "raw_data.describe()"
   ]
  },
  {
   "cell_type": "code",
   "execution_count": 8,
   "metadata": {},
   "outputs": [
    {
     "data": {
      "text/plain": [
       "(8831779, 13)"
      ]
     },
     "execution_count": 8,
     "metadata": {},
     "output_type": "execute_result"
    }
   ],
   "source": [
    "raw_data.shape"
   ]
  },
  {
   "cell_type": "markdown",
   "metadata": {},
   "source": [
    "## Does the data contain any empty cell?\n",
    "    True - Yes\n",
    "    False - No"
   ]
  },
  {
   "cell_type": "code",
   "execution_count": 9,
   "metadata": {},
   "outputs": [
    {
     "data": {
      "text/plain": [
       "False"
      ]
     },
     "execution_count": 9,
     "metadata": {},
     "output_type": "execute_result"
    }
   ],
   "source": [
    "raw_data.empty"
   ]
  },
  {
   "cell_type": "code",
   "execution_count": 10,
   "metadata": {},
   "outputs": [],
   "source": [
    "\"\"\"Capitalize the Name of Districts\"\"\"\n",
    "raw_data[\"District\"] = raw_data[\"District\"].str.upper()\n",
    "\n",
    "\"\"\"Capitalize the Name of Janpad\"\"\"\n",
    "raw_data[\"Janpad\"] = raw_data[\"Janpad\"].str.upper()\n",
    "\n",
    "\"\"\"Capitalize the Name of Gram Panchayat\"\"\"\n",
    "raw_data[\"Gram Panchayat\"] = raw_data[\"Gram Panchayat\"].str.upper()\n",
    "\n",
    "\"\"\"Capitalize the Name of Village\"\"\"\n",
    "raw_data[\"Village\"] = raw_data[\"Village\"].str.upper()\n",
    "\n",
    "\"\"\"Capitalize the Name of Head of Household\"\"\"\n",
    "raw_data[\"Name of head of household\"] = raw_data[\"Name of head of household\"].str.upper()"
   ]
  },
  {
   "cell_type": "code",
   "execution_count": 11,
   "metadata": {},
   "outputs": [
    {
     "data": {
      "text/html": [
       "<div>\n",
       "<style scoped>\n",
       "    .dataframe tbody tr th:only-of-type {\n",
       "        vertical-align: middle;\n",
       "    }\n",
       "\n",
       "    .dataframe tbody tr th {\n",
       "        vertical-align: top;\n",
       "    }\n",
       "\n",
       "    .dataframe thead th {\n",
       "        text-align: right;\n",
       "    }\n",
       "</style>\n",
       "<table border=\"1\" class=\"dataframe\">\n",
       "  <thead>\n",
       "    <tr style=\"text-align: right;\">\n",
       "      <th></th>\n",
       "      <th>District</th>\n",
       "      <th>Janpad</th>\n",
       "      <th>Gram Panchayat</th>\n",
       "      <th>Village</th>\n",
       "      <th>Name of head of household</th>\n",
       "      <th>GOI ID</th>\n",
       "      <th>Column_1</th>\n",
       "      <th>Economic status</th>\n",
       "      <th>Sub-category</th>\n",
       "      <th>Has Toilet</th>\n",
       "      <th>Type of toilet</th>\n",
       "      <th>Has Water Source</th>\n",
       "      <th>Water source</th>\n",
       "    </tr>\n",
       "  </thead>\n",
       "  <tbody>\n",
       "    <tr>\n",
       "      <th>0</th>\n",
       "      <td>ALIRAJPUR</td>\n",
       "      <td>ALIRAJPUR</td>\n",
       "      <td>GARATH</td>\n",
       "      <td>GARATH</td>\n",
       "      <td>RICHU</td>\n",
       "      <td>49823522</td>\n",
       "      <td>NaN</td>\n",
       "      <td>APL</td>\n",
       "      <td>ST</td>\n",
       "      <td>हाँ</td>\n",
       "      <td>एक गड्ढे वाला</td>\n",
       "      <td>हाँ</td>\n",
       "      <td>हैंडपंप</td>\n",
       "    </tr>\n",
       "    <tr>\n",
       "      <th>1</th>\n",
       "      <td>NARSINGHPUR</td>\n",
       "      <td>GOTEGAON (SHRIDHAM)</td>\n",
       "      <td>BARONDA</td>\n",
       "      <td>BARODA</td>\n",
       "      <td>KHEERSAGAR</td>\n",
       "      <td>50249690</td>\n",
       "      <td>NaN</td>\n",
       "      <td>BPL</td>\n",
       "      <td>GENERAL</td>\n",
       "      <td>हाँ</td>\n",
       "      <td>दो गड्ढे वाला</td>\n",
       "      <td>हाँ</td>\n",
       "      <td>हैंडपंप</td>\n",
       "    </tr>\n",
       "    <tr>\n",
       "      <th>2</th>\n",
       "      <td>CHHINDWARA</td>\n",
       "      <td>MOHKHED</td>\n",
       "      <td>MAU</td>\n",
       "      <td>MAU</td>\n",
       "      <td>GUKAB</td>\n",
       "      <td>50272567</td>\n",
       "      <td>NaN</td>\n",
       "      <td>APL</td>\n",
       "      <td>Small &amp; Marginal Farmers</td>\n",
       "      <td>हाँ</td>\n",
       "      <td>सेप्टिक टैंक</td>\n",
       "      <td>हाँ</td>\n",
       "      <td>नल-जल</td>\n",
       "    </tr>\n",
       "    <tr>\n",
       "      <th>3</th>\n",
       "      <td>SHAJAPUR</td>\n",
       "      <td>SHUJALPUR</td>\n",
       "      <td>LAHARKHEDA</td>\n",
       "      <td>LAHARKHEDA</td>\n",
       "      <td>MOTILAL</td>\n",
       "      <td>50966288</td>\n",
       "      <td>NaN</td>\n",
       "      <td>BPL</td>\n",
       "      <td>SC</td>\n",
       "      <td>हाँ</td>\n",
       "      <td>दो गड्ढे वाला</td>\n",
       "      <td>हाँ</td>\n",
       "      <td>कुआँ</td>\n",
       "    </tr>\n",
       "    <tr>\n",
       "      <th>4</th>\n",
       "      <td>CHHINDWARA</td>\n",
       "      <td>MOHKHED</td>\n",
       "      <td>MAU</td>\n",
       "      <td>MAU</td>\n",
       "      <td>NAMDEV</td>\n",
       "      <td>3315266</td>\n",
       "      <td>NaN</td>\n",
       "      <td>APL</td>\n",
       "      <td>Small &amp; Marginal Farmers</td>\n",
       "      <td>हाँ</td>\n",
       "      <td>दो गड्ढे वाला</td>\n",
       "      <td>हाँ</td>\n",
       "      <td>नल-जल</td>\n",
       "    </tr>\n",
       "  </tbody>\n",
       "</table>\n",
       "</div>"
      ],
      "text/plain": [
       "      District                Janpad Gram Panchayat     Village  \\\n",
       "0    ALIRAJPUR             ALIRAJPUR         GARATH      GARATH   \n",
       "1  NARSINGHPUR   GOTEGAON (SHRIDHAM)        BARONDA      BARODA   \n",
       "2   CHHINDWARA               MOHKHED            MAU         MAU   \n",
       "3     SHAJAPUR             SHUJALPUR     LAHARKHEDA  LAHARKHEDA   \n",
       "4   CHHINDWARA               MOHKHED            MAU         MAU   \n",
       "\n",
       "  Name of head of household    GOI ID Column_1 Economic status  \\\n",
       "0                     RICHU  49823522      NaN             APL   \n",
       "1                KHEERSAGAR  50249690      NaN             BPL   \n",
       "2                     GUKAB  50272567      NaN             APL   \n",
       "3                   MOTILAL  50966288      NaN             BPL   \n",
       "4                    NAMDEV   3315266      NaN             APL   \n",
       "\n",
       "               Sub-category Has Toilet Type of toilet Has Water Source  \\\n",
       "0                        ST        हाँ  एक गड्ढे वाला              हाँ   \n",
       "1                   GENERAL        हाँ  दो गड्ढे वाला              हाँ   \n",
       "2  Small & Marginal Farmers        हाँ   सेप्टिक टैंक              हाँ   \n",
       "3                        SC        हाँ  दो गड्ढे वाला              हाँ   \n",
       "4  Small & Marginal Farmers        हाँ  दो गड्ढे वाला              हाँ   \n",
       "\n",
       "  Water source  \n",
       "0      हैंडपंप  \n",
       "1      हैंडपंप  \n",
       "2        नल-जल  \n",
       "3         कुआँ  \n",
       "4        नल-जल  "
      ]
     },
     "execution_count": 11,
     "metadata": {},
     "output_type": "execute_result"
    }
   ],
   "source": [
    "raw_data.head()"
   ]
  },
  {
   "cell_type": "markdown",
   "metadata": {},
   "source": [
    "## Identify duplicate records \n",
    "Based on the combination - District+Janpad+Gram Panchayat+Village+Name of head of household+GOI ID "
   ]
  },
  {
   "cell_type": "code",
   "execution_count": 12,
   "metadata": {},
   "outputs": [],
   "source": [
    "raw_data[\"is_duplicate_record\"] = raw_data.duplicated(subset=(\"District\",\n",
    "             \"Janpad\",\n",
    "             \"Gram Panchayat\",\n",
    "             \"Village\",\n",
    "             \"Name of head of household\",\n",
    "             \"GOI ID\"))"
   ]
  },
  {
   "cell_type": "markdown",
   "metadata": {},
   "source": [
    "# Section 3: Data Error Checks\n",
    "\n",
    "## 1. Total Duplicate records:"
   ]
  },
  {
   "cell_type": "code",
   "execution_count": 13,
   "metadata": {},
   "outputs": [
    {
     "data": {
      "text/plain": [
       "65222"
      ]
     },
     "execution_count": 13,
     "metadata": {},
     "output_type": "execute_result"
    }
   ],
   "source": [
    "\"\"\"Data Error Condition 1: Number of Duplicate Records identified using Duplicate Key above\"\"\"\n",
    "raw_data[raw_data[\"is_duplicate_record\"] == True].shape[0]"
   ]
  },
  {
   "cell_type": "markdown",
   "metadata": {},
   "source": [
    "## 2. Missing Data in Mandatory Columns:"
   ]
  },
  {
   "cell_type": "code",
   "execution_count": 14,
   "metadata": {},
   "outputs": [
    {
     "name": "stdout",
     "output_type": "stream",
     "text": [
      "-----\n",
      "Series([], Name: Column_1, dtype: int64)\n",
      "Missing Data:  8831779\n",
      "-----\n",
      "BPL    4479838\n",
      "APL    4351941\n",
      "Name: Economic status, dtype: int64\n",
      "Missing Data:  0\n",
      "-----\n",
      "ST                          2203392\n",
      "GENERAL                     2096241\n",
      "Other                       2003471\n",
      "SC                          1319150\n",
      "Small & Marginal Farmers     902280\n",
      "Women Headed HH              205095\n",
      "Landless with homestead       75243\n",
      "PH                            26907\n",
      "Name: Sub-category, dtype: int64\n",
      "Missing Data:  0\n",
      "-----\n",
      "हाँ     8376583\n",
      "नहीं     455196\n",
      "Name: Has Toilet, dtype: int64\n",
      "Missing Data:  0\n",
      "-----\n",
      "एक गड्ढे वाला                      3758955\n",
      "दो गड्ढे वाला                      2654578\n",
      "सेप्टिक टैंक                       1599267\n",
      "उपलब्ध नहीं है                      460537\n",
      "सोखते गड्ढे के साथ सेप्टिक टैंक     345209\n",
      "बायो-शौचालय                          13233\n",
      "Name: Type of toilet, dtype: int64\n",
      "Missing Data:  0\n",
      "-----\n",
      "हाँ     7839744\n",
      "नहीं     992035\n",
      "Name: Has Water Source, dtype: int64\n",
      "Missing Data:  0\n",
      "-----\n",
      "हैंडपंप                     4613804\n",
      "नल-जल                       2381578\n",
      "कुआँ                        1281467\n",
      "पानी का कोई स्त्रोत नहीं     367138\n",
      "उपलब्ध नहीं है               149994\n",
      "तालाब                         37798\n",
      "Name: Water source, dtype: int64\n",
      "Missing Data:  0\n"
     ]
    }
   ],
   "source": [
    "\"\"\"Data Error Condition 2: Check Missing Data in the mandatory columns\"\"\" \n",
    "for label, content in raw_data.items():\n",
    "    \"\"\"Apply the condition in all columns except\"\"\"\n",
    "    if label not in [\"District\",\n",
    "             \"Janpad\",\n",
    "             \"Gram Panchayat\",\n",
    "             \"Village\",\n",
    "             \"Name of head of household\",\n",
    "             \"GOI ID\",\n",
    "             \"is_duplicate_record\"]:\n",
    "        print(\"-----\")\n",
    "        print(content.value_counts())\n",
    "        if content.isna().any():\n",
    "            print(\"Missing Data: \",content.isna().shape[0])\n",
    "        else:\n",
    "            print(\"Missing Data: \",0)"
   ]
  },
  {
   "cell_type": "markdown",
   "metadata": {},
   "source": [
    "### Observations: \n",
    "a. All the values in Column_1 are missing.\n",
    "b. There is no other missing value error."
   ]
  },
  {
   "cell_type": "markdown",
   "metadata": {},
   "source": [
    "## 3. Number of records where toilet is available in the household but type of toilet has either not been provided or mentioned as not available - "
   ]
  },
  {
   "cell_type": "code",
   "execution_count": 15,
   "metadata": {
    "scrolled": true
   },
   "outputs": [
    {
     "data": {
      "text/plain": [
       "8833"
      ]
     },
     "execution_count": 15,
     "metadata": {},
     "output_type": "execute_result"
    }
   ],
   "source": [
    "\"\"\"Data Error Condition 3: Number of Records where toilet is available but type of toilet has been mentioned उपलब्ध नहीं है\"\"\"\n",
    "raw_data[(raw_data[\"Has Toilet\"] == 'हाँ') & (raw_data[\"Type of toilet\"] == 'उपलब्ध नहीं है')].shape[0]"
   ]
  },
  {
   "cell_type": "markdown",
   "metadata": {},
   "source": [
    "## 4. Number of records where toilet is not available in the household but type of toilet has been mentioned - "
   ]
  },
  {
   "cell_type": "code",
   "execution_count": 16,
   "metadata": {},
   "outputs": [
    {
     "data": {
      "text/plain": [
       "3492"
      ]
     },
     "execution_count": 16,
     "metadata": {},
     "output_type": "execute_result"
    }
   ],
   "source": [
    "\"\"\"Data Error Condition 4: Number of Records where toilet is not available but type of toilet has been mentioned other than उपलब्ध नहीं है\"\"\"\n",
    "raw_data[(raw_data[\"Has Toilet\"] == 'नहीं') & (raw_data[\"Type of toilet\"] != 'उपलब्ध नहीं है')].shape[0]"
   ]
  },
  {
   "cell_type": "markdown",
   "metadata": {},
   "source": [
    "## 5. Number of records where water source is available in the household but type of source has either not been provided or mentioned as not available - "
   ]
  },
  {
   "cell_type": "code",
   "execution_count": 17,
   "metadata": {},
   "outputs": [
    {
     "data": {
      "text/plain": [
       "322910"
      ]
     },
     "execution_count": 17,
     "metadata": {},
     "output_type": "execute_result"
    }
   ],
   "source": [
    "\"\"\"Data Error Condition 3: Number of Records where water source is available but type of source has been mentioned as not available\"\"\"\n",
    "raw_data[(raw_data[\"Has Water Source\"] == 'हाँ') & ((raw_data[\"Water source\"] == 'उपलब्ध नहीं है') | (raw_data[\"Water source\"] == 'पानी का कोई स्त्रोत नहीं'))].shape[0]"
   ]
  },
  {
   "cell_type": "markdown",
   "metadata": {},
   "source": [
    "## 6. Number of records where water source is  not available in the household but type of source has been provided - "
   ]
  },
  {
   "cell_type": "code",
   "execution_count": 18,
   "metadata": {},
   "outputs": [
    {
     "data": {
      "text/plain": [
       "797813"
      ]
     },
     "execution_count": 18,
     "metadata": {},
     "output_type": "execute_result"
    }
   ],
   "source": [
    "\"\"\"Data Error Condition 3: Number of Records where water source is not available but type of source has been mentioned as available\"\"\"\n",
    "raw_data[(raw_data[\"Has Water Source\"] == 'नहीं') & (raw_data[\"Water source\"] != 'उपलब्ध नहीं है') & (raw_data[\"Water source\"] != 'पानी का कोई स्त्रोत नहीं')].shape[0]"
   ]
  },
  {
   "cell_type": "markdown",
   "metadata": {},
   "source": [
    "# Section 2: Data Analysis\n",
    "\n",
    "## 1. Overview"
   ]
  },
  {
   "cell_type": "markdown",
   "metadata": {},
   "source": [
    "### Total Households Surveyed in Reverification of Toilet:"
   ]
  },
  {
   "cell_type": "code",
   "execution_count": 19,
   "metadata": {},
   "outputs": [
    {
     "data": {
      "text/plain": [
       "8831779"
      ]
     },
     "execution_count": 19,
     "metadata": {},
     "output_type": "execute_result"
    }
   ],
   "source": [
    "raw_data.shape[0]"
   ]
  },
  {
   "cell_type": "code",
   "execution_count": 20,
   "metadata": {},
   "outputs": [
    {
     "data": {
      "text/plain": [
       "<Figure size 432x288 with 0 Axes>"
      ]
     },
     "execution_count": 20,
     "metadata": {},
     "output_type": "execute_result"
    },
    {
     "data": {
      "text/plain": [
       "<Figure size 432x288 with 0 Axes>"
      ]
     },
     "metadata": {},
     "output_type": "display_data"
    }
   ],
   "source": [
    "plt.figure()"
   ]
  },
  {
   "cell_type": "markdown",
   "metadata": {},
   "source": [
    "### Households by Economic Status"
   ]
  },
  {
   "cell_type": "code",
   "execution_count": 21,
   "metadata": {},
   "outputs": [
    {
     "name": "stdout",
     "output_type": "stream",
     "text": [
      "Number of households in\n",
      "-----------------------\n",
      "BPL    4479838\n",
      "APL    4351941\n",
      "Name: Economic status, dtype: int64\n",
      "-----------------------\n",
      "% of households in\n",
      "-----------------------\n",
      "BPL    50.724073\n",
      "APL    49.275927\n",
      "Name: Economic status, dtype: float64\n",
      "-----------------------\n"
     ]
    },
    {
     "data": {
      "text/plain": [
       "<matplotlib.axes._subplots.AxesSubplot at 0x2863f0192b0>"
      ]
     },
     "execution_count": 21,
     "metadata": {},
     "output_type": "execute_result"
    },
    {
     "data": {
      "image/png": "[encoded data removed]",
      "text/plain": [
       "<Figure size 576x324 with 1 Axes>"
      ]
     },
     "metadata": {},
     "output_type": "display_data"
    }
   ],
   "source": [
    "print(\"Number of households in\")\n",
    "print(\"-----------------------\")\n",
    "hh_by_eco_status_cnt = raw_data[\"Economic status\"].value_counts()\n",
    "print(hh_by_eco_status_cnt)\n",
    "print(\"-----------------------\")\n",
    "print(\"% of households in\")\n",
    "print(\"-----------------------\")\n",
    "hh_by_eco_status_pct = raw_data[\"Economic status\"].value_counts(normalize=True)*100\n",
    "print(hh_by_eco_status_pct)\n",
    "print(\"-----------------------\")\n",
    "hh_by_eco_status_pct.plot.pie(figsize=[8,4.5], \n",
    "                          title=\"Distribution of Households by Economic Status\",\n",
    "                          legend=True)"
   ]
  },
  {
   "cell_type": "markdown",
   "metadata": {},
   "source": [
    "#### Observations:\n",
    "1. Distribution of households by economic status is quite even, i.e. there are almost 50% BPL and 50% APL families where verification of toilet has been conducted."
   ]
  },
  {
   "cell_type": "markdown",
   "metadata": {},
   "source": [
    "### Households by Social Category"
   ]
  },
  {
   "cell_type": "code",
   "execution_count": 22,
   "metadata": {},
   "outputs": [
    {
     "name": "stdout",
     "output_type": "stream",
     "text": [
      "Number of households in\n",
      "-----------------------\n",
      "ST                          2203392\n",
      "GENERAL                     2096241\n",
      "Other                       2003471\n",
      "SC                          1319150\n",
      "Small & Marginal Farmers     902280\n",
      "Women Headed HH              205095\n",
      "Landless with homestead       75243\n",
      "PH                            26907\n",
      "Name: Sub-category, dtype: int64\n",
      "-----------------------\n",
      "% of households in\n",
      "-----------------------\n",
      "ST                          24.948450\n",
      "GENERAL                     23.735207\n",
      "Other                       22.684795\n",
      "SC                          14.936402\n",
      "Small & Marginal Farmers    10.216288\n",
      "Women Headed HH              2.322239\n",
      "Landless with homestead      0.851957\n",
      "PH                           0.304661\n",
      "Name: Sub-category, dtype: float64\n",
      "-----------------------\n"
     ]
    },
    {
     "data": {
      "text/plain": [
       "<matplotlib.axes._subplots.AxesSubplot at 0x28638edb630>"
      ]
     },
     "execution_count": 22,
     "metadata": {},
     "output_type": "execute_result"
    },
    {
     "data": {
      "image/png": "[encoded data removed]",
      "text/plain": [
       "<Figure size 767.52x432 with 1 Axes>"
      ]
     },
     "metadata": {
      "needs_background": "light"
     },
     "output_type": "display_data"
    }
   ],
   "source": [
    "print(\"Number of households in\")\n",
    "print(\"-----------------------\")\n",
    "hh_by_sco_catgry_cnt = raw_data[\"Sub-category\"].value_counts()\n",
    "print(hh_by_sco_catgry_cnt)\n",
    "print(\"-----------------------\")\n",
    "print(\"% of households in\")\n",
    "print(\"-----------------------\")\n",
    "hh_by_sco_catgry_pct = raw_data[\"Sub-category\"].value_counts(normalize=True)*100\n",
    "print(hh_by_sco_catgry_pct)\n",
    "print(\"-----------------------\")\n",
    "hh_by_sco_catgry_pct.plot.barh(figsize=[10.66,6], \n",
    "                          title=\"Distribution of Households by Economic Status\",\n",
    "                          legend=True)"
   ]
  },
  {
   "cell_type": "markdown",
   "metadata": {},
   "source": [
    "### Households by Economic Status and Social Category"
   ]
  },
  {
   "cell_type": "code",
   "execution_count": 23,
   "metadata": {},
   "outputs": [
    {
     "data": {
      "text/plain": [
       "<matplotlib.axes._subplots.AxesSubplot at 0x28650480518>"
      ]
     },
     "execution_count": 23,
     "metadata": {},
     "output_type": "execute_result"
    },
    {
     "data": {
      "image/png": "[encoded data removed]",
      "text/plain": [
       "<Figure size 1152x648 with 1 Axes>"
      ]
     },
     "metadata": {
      "needs_background": "light"
     },
     "output_type": "display_data"
    }
   ],
   "source": [
    "pd.crosstab(index=raw_data[\"Economic status\"], \n",
    "                          columns=raw_data[\"Sub-category\"]).plot.bar(figsize=[16,9],\n",
    "                                                                    title=\"Number of households in different social categories and economic status\",\n",
    "                                                                    table=False)"
   ]
  },
  {
   "cell_type": "markdown",
   "metadata": {},
   "source": [
    "#### Observations - \n",
    "1. There are 22.7% households in \"Others\" category\n",
    "2. All the General category households are BPL\n",
    "3. BPL Households has only General,  SC and ST category. No landless family, or household headed by a woman or physically challenged person has been reported as BPL."
   ]
  },
  {
   "cell_type": "markdown",
   "metadata": {},
   "source": [
    "## 2. Status of Toilets in Households\n",
    "\n",
    "### Availability of Toilets in the Households"
   ]
  },
  {
   "cell_type": "code",
   "execution_count": 24,
   "metadata": {},
   "outputs": [
    {
     "name": "stdout",
     "output_type": "stream",
     "text": [
      "Number of households having toilet\n",
      "-----------------------\n",
      "हाँ     8376583\n",
      "नहीं     455196\n",
      "Name: Has Toilet, dtype: int64\n",
      "-----------------------\n",
      "% of households haing toilet\n",
      "-----------------------\n",
      "हाँ     94.845931\n",
      "नहीं     5.154069\n",
      "Name: Has Toilet, dtype: float64\n",
      "-----------------------\n"
     ]
    }
   ],
   "source": [
    "print(\"Number of households having toilet\")\n",
    "print(\"-----------------------\")\n",
    "hh_hvng_tlt_cnt = raw_data[\"Has Toilet\"].value_counts()\n",
    "print(hh_hvng_tlt_cnt)\n",
    "print(\"-----------------------\")\n",
    "print(\"% of households haing toilet\")\n",
    "print(\"-----------------------\")\n",
    "hh_hvng_tlt_pct = raw_data[\"Has Toilet\"].value_counts(normalize=True)*100\n",
    "print(hh_hvng_tlt_pct)\n",
    "print(\"-----------------------\")"
   ]
  },
  {
   "cell_type": "code",
   "execution_count": 25,
   "metadata": {},
   "outputs": [
    {
     "data": {
      "text/plain": [
       "<matplotlib.axes._subplots.AxesSubplot at 0x286080ba710>"
      ]
     },
     "execution_count": 25,
     "metadata": {},
     "output_type": "execute_result"
    },
    {
     "data": {
      "image/png": "[encoded data removed]",
      "text/plain": [
       "<Figure size 576x324 with 1 Axes>"
      ]
     },
     "metadata": {},
     "output_type": "display_data"
    }
   ],
   "source": [
    "plt.rcParams['font.family']='Nirmala UI'\n",
    "\n",
    "hh_hvng_tlt_pct.plot.pie(figsize=[8,4.5], \n",
    "                          title=\"Status of Toilets in Households\",\n",
    "                          legend=True)"
   ]
  },
  {
   "cell_type": "code",
   "execution_count": 26,
   "metadata": {},
   "outputs": [
    {
     "data": {
      "text/plain": [
       "<matplotlib.axes._subplots.AxesSubplot at 0x28679c1d4e0>"
      ]
     },
     "execution_count": 26,
     "metadata": {},
     "output_type": "execute_result"
    },
    {
     "data": {
      "image/png": "[encoded data removed]",
      "text/plain": [
       "<Figure size 576x324 with 1 Axes>"
      ]
     },
     "metadata": {
      "needs_background": "light"
     },
     "output_type": "display_data"
    }
   ],
   "source": [
    "pd.crosstab(index=raw_data[\"Economic status\"], \n",
    "                          columns=raw_data[\"Has Toilet\"]).plot.barh(figsize=[8,4.5],\n",
    "                                                                    title=\"Status of toilets in households in different economic status\",\n",
    "                                                                    table=False)"
   ]
  },
  {
   "cell_type": "code",
   "execution_count": 27,
   "metadata": {
    "scrolled": true
   },
   "outputs": [
    {
     "data": {
      "text/plain": [
       "<matplotlib.axes._subplots.AxesSubplot at 0x2867109cf60>"
      ]
     },
     "execution_count": 27,
     "metadata": {},
     "output_type": "execute_result"
    },
    {
     "data": {
      "image/png": "[encoded data removed]",
      "text/plain": [
       "<Figure size 720x324 with 1 Axes>"
      ]
     },
     "metadata": {
      "needs_background": "light"
     },
     "output_type": "display_data"
    }
   ],
   "source": [
    "pd.crosstab(index=raw_data[\"Has Toilet\"], \n",
    "                          columns=raw_data[\"Sub-category\"]).plot.barh(figsize=[10,4.5],\n",
    "                                                                    title=\"Status of toilets in households in different social categories\",\n",
    "                                                                    table=False)"
   ]
  },
  {
   "cell_type": "markdown",
   "metadata": {},
   "source": [
    "#### Observations:\n",
    "1. 94.85% of the housheolds have toilet\n",
    "2. However 4.55 lakh households are still devoid of toilet facility. ST households are the most affected"
   ]
  },
  {
   "cell_type": "markdown",
   "metadata": {},
   "source": [
    "### Availabilty of Different Types of Toilet across Households"
   ]
  },
  {
   "cell_type": "code",
   "execution_count": 28,
   "metadata": {},
   "outputs": [],
   "source": [
    "hh_with_toilet = raw_data[(raw_data[\"Has Toilet\"] == 'हाँ') & (raw_data[\"Type of toilet\"] != 'उपलब्ध नहीं है')]"
   ]
  },
  {
   "cell_type": "code",
   "execution_count": 29,
   "metadata": {},
   "outputs": [
    {
     "name": "stdout",
     "output_type": "stream",
     "text": [
      "Number of households having different types toilet\n",
      "--------------------------------------------------\n",
      "एक गड्ढे वाला                      3756730\n",
      "दो गड्ढे वाला                      2654140\n",
      "सेप्टिक टैंक                       1598559\n",
      "सोखते गड्ढे के साथ सेप्टिक टैंक     345090\n",
      "बायो-शौचालय                          13231\n",
      "उपलब्ध नहीं है                           0\n",
      "Name: Type of toilet, dtype: int64\n",
      "--------------------------------------------------\n",
      "% of households haing different types of toilet\n",
      "--------------------------------------------------\n",
      "एक गड्ढे वाला                      44.895342\n",
      "दो गड्ढे वाला                      31.718682\n",
      "सेप्टिक टैंक                       19.103809\n",
      "सोखते गड्ढे के साथ सेप्टिक टैंक     4.124048\n",
      "बायो-शौचालय                         0.158119\n",
      "उपलब्ध नहीं है                      0.000000\n",
      "Name: Type of toilet, dtype: float64\n",
      "--------------------------------------------------\n"
     ]
    }
   ],
   "source": [
    "print(\"Number of households having different types toilet\")\n",
    "print(\"--------------------------------------------------\")\n",
    "hh_hvng_tlt_type_cnt = hh_with_toilet[\"Type of toilet\"].value_counts()\n",
    "print(hh_hvng_tlt_type_cnt)\n",
    "print(\"--------------------------------------------------\")\n",
    "print(\"% of households haing different types of toilet\")\n",
    "print(\"--------------------------------------------------\")\n",
    "hh_hvng_tlt_type_pct = hh_with_toilet[\"Type of toilet\"].value_counts(normalize=True)*100\n",
    "print(hh_hvng_tlt_type_pct)\n",
    "print(\"--------------------------------------------------\")"
   ]
  },
  {
   "cell_type": "code",
   "execution_count": 30,
   "metadata": {},
   "outputs": [
    {
     "data": {
      "text/plain": [
       "<matplotlib.axes._subplots.AxesSubplot at 0x2866723d9e8>"
      ]
     },
     "execution_count": 30,
     "metadata": {},
     "output_type": "execute_result"
    },
    {
     "data": {
      "image/png": "[encoded data removed]",
      "text/plain": [
       "<Figure size 720x504 with 1 Axes>"
      ]
     },
     "metadata": {},
     "output_type": "display_data"
    }
   ],
   "source": [
    "hh_hvng_tlt_type_pct.plot.pie(figsize=[10,7], \n",
    "                          title=\"% of Households having different Types of Toilets\",\n",
    "                          legend=True)"
   ]
  },
  {
   "cell_type": "markdown",
   "metadata": {},
   "source": [
    "## 3. Status of Water Sources in the Households\n",
    "\n",
    "### Availability of Water Source in the Households"
   ]
  },
  {
   "cell_type": "code",
   "execution_count": 31,
   "metadata": {},
   "outputs": [
    {
     "name": "stdout",
     "output_type": "stream",
     "text": [
      "Number of households having water source\n",
      "-----------------------\n",
      "हाँ     7839744\n",
      "नहीं     992035\n",
      "Name: Has Water Source, dtype: int64\n",
      "-----------------------\n",
      "% of households haing water source\n",
      "-----------------------\n",
      "हाँ     88.767439\n",
      "नहीं    11.232561\n",
      "Name: Has Water Source, dtype: float64\n",
      "-----------------------\n"
     ]
    }
   ],
   "source": [
    "print(\"Number of households having water source\")\n",
    "print(\"-----------------------\")\n",
    "hh_hvng_wtr_src_cnt = raw_data[\"Has Water Source\"].value_counts()\n",
    "print(hh_hvng_wtr_src_cnt)\n",
    "print(\"-----------------------\")\n",
    "print(\"% of households haing water source\")\n",
    "print(\"-----------------------\")\n",
    "hh_hvng_wtr_src_pct = raw_data[\"Has Water Source\"].value_counts(normalize=True)*100\n",
    "print(hh_hvng_wtr_src_pct)\n",
    "print(\"-----------------------\")"
   ]
  },
  {
   "cell_type": "code",
   "execution_count": 32,
   "metadata": {},
   "outputs": [
    {
     "data": {
      "text/plain": [
       "<matplotlib.axes._subplots.AxesSubplot at 0x28650495208>"
      ]
     },
     "execution_count": 32,
     "metadata": {},
     "output_type": "execute_result"
    },
    {
     "data": {
      "image/png": "[encoded data removed]",
      "text/plain": [
       "<Figure size 576x324 with 1 Axes>"
      ]
     },
     "metadata": {},
     "output_type": "display_data"
    }
   ],
   "source": [
    "hh_hvng_wtr_src_pct.plot.pie(figsize=[8,4.5], \n",
    "                          title=\"Availability of Water Source in Households\",\n",
    "                          legend=True)"
   ]
  },
  {
   "cell_type": "code",
   "execution_count": 33,
   "metadata": {},
   "outputs": [
    {
     "data": {
      "text/plain": [
       "<matplotlib.axes._subplots.AxesSubplot at 0x2862c35b780>"
      ]
     },
     "execution_count": 33,
     "metadata": {},
     "output_type": "execute_result"
    },
    {
     "data": {
      "image/png": "[encoded data removed]",
      "text/plain": [
       "<Figure size 576x324 with 1 Axes>"
      ]
     },
     "metadata": {
      "needs_background": "light"
     },
     "output_type": "display_data"
    }
   ],
   "source": [
    "pd.crosstab(index=raw_data[\"Economic status\"], \n",
    "                          columns=raw_data[\"Has Water Source\"]).plot.barh(figsize=[8,4.5],\n",
    "                                                                    title=\"Availability of Water Source in households of different economic status\",\n",
    "                                                                    table=False)"
   ]
  },
  {
   "cell_type": "code",
   "execution_count": 34,
   "metadata": {},
   "outputs": [
    {
     "data": {
      "text/plain": [
       "<matplotlib.axes._subplots.AxesSubplot at 0x2863d000f60>"
      ]
     },
     "execution_count": 34,
     "metadata": {},
     "output_type": "execute_result"
    },
    {
     "data": {
      "image/png": "[encoded data removed]",
      "text/plain": [
       "<Figure size 720x432 with 1 Axes>"
      ]
     },
     "metadata": {
      "needs_background": "light"
     },
     "output_type": "display_data"
    }
   ],
   "source": [
    "pd.crosstab(index=raw_data[\"Has Water Source\"], \n",
    "                          columns=raw_data[\"Sub-category\"]).plot.barh(figsize=[10,6],\n",
    "                                                                    title=\"Availability of Water Source in households of different social categories\",\n",
    "                                                                    table=False)"
   ]
  },
  {
   "cell_type": "markdown",
   "metadata": {},
   "source": [
    "#### Observation:\n",
    "1. 88.77% of the households have a water source\n",
    "2. Howerver, around 9.9 Lakh Households don't have water source. ST category households are the worst affected."
   ]
  },
  {
   "cell_type": "markdown",
   "metadata": {},
   "source": [
    "### Availabilty of Different Types of Water Sources across Households"
   ]
  },
  {
   "cell_type": "code",
   "execution_count": 35,
   "metadata": {},
   "outputs": [],
   "source": [
    "hh_with_wtr_src = raw_data[(raw_data[\"Has Water Source\"] == 'हाँ') & (raw_data[\"Water source\"] != 'उपलब्ध नहीं है') & (raw_data[\"Water source\"] != 'पानी का कोई स्त्रोत नहीं')]"
   ]
  },
  {
   "cell_type": "code",
   "execution_count": 36,
   "metadata": {},
   "outputs": [
    {
     "name": "stdout",
     "output_type": "stream",
     "text": [
      "Number of households having different types of water source\n",
      "--------------------------------------------------\n",
      "हैंडपंप                     4154364\n",
      "नल-जल                       2232978\n",
      "कुआँ                        1098231\n",
      "तालाब                         31261\n",
      "पानी का कोई स्त्रोत नहीं          0\n",
      "उपलब्ध नहीं है                    0\n",
      "Name: Water source, dtype: int64\n",
      "--------------------------------------------------\n",
      "% of households haing different types of water source\n",
      "--------------------------------------------------\n",
      "हैंडपंप                     55.267470\n",
      "नल-जल                       29.706363\n",
      "कुआँ                        14.610287\n",
      "तालाब                        0.415880\n",
      "पानी का कोई स्त्रोत नहीं     0.000000\n",
      "उपलब्ध नहीं है               0.000000\n",
      "Name: Water source, dtype: float64\n",
      "--------------------------------------------------\n"
     ]
    }
   ],
   "source": [
    "print(\"Number of households having different types of water source\")\n",
    "print(\"--------------------------------------------------\")\n",
    "hh_hvng_wtr_src_type_cnt = hh_with_wtr_src[\"Water source\"].value_counts()\n",
    "print(hh_hvng_wtr_src_type_cnt)\n",
    "print(\"--------------------------------------------------\")\n",
    "print(\"% of households haing different types of water source\")\n",
    "print(\"--------------------------------------------------\")\n",
    "hh_hvng_wtr_src_type_pct = hh_with_wtr_src[\"Water source\"].value_counts(normalize=True)*100\n",
    "print(hh_hvng_wtr_src_type_pct)\n",
    "print(\"--------------------------------------------------\")"
   ]
  },
  {
   "cell_type": "code",
   "execution_count": 37,
   "metadata": {},
   "outputs": [
    {
     "data": {
      "text/plain": [
       "<matplotlib.axes._subplots.AxesSubplot at 0x28622760320>"
      ]
     },
     "execution_count": 37,
     "metadata": {},
     "output_type": "execute_result"
    },
    {
     "data": {
      "image/png": "[encoded data removed]",
      "text/plain": [
       "<Figure size 720x504 with 1 Axes>"
      ]
     },
     "metadata": {},
     "output_type": "display_data"
    }
   ],
   "source": [
    "hh_hvng_wtr_src_type_pct.plot.pie(figsize=[10,7], \n",
    "                          title=\"% of Households having different Types of Water Sources\",\n",
    "                          legend=True)"
   ]
  },
  {
   "cell_type": "markdown",
   "metadata": {},
   "source": [
    "### Availability of Toilets and Water Source in the Households"
   ]
  },
  {
   "cell_type": "code",
   "execution_count": 38,
   "metadata": {},
   "outputs": [
    {
     "name": "stdout",
     "output_type": "stream",
     "text": [
      "Has Toilet            हाँ    नहीं\n",
      "Has Water Source                 \n",
      "हाँ               7820538   19206\n",
      "नहीं               556045  435990\n"
     ]
    },
    {
     "data": {
      "text/plain": [
       "<matplotlib.axes._subplots.AxesSubplot at 0x28639a547f0>"
      ]
     },
     "execution_count": 38,
     "metadata": {},
     "output_type": "execute_result"
    },
    {
     "data": {
      "image/png": "[encoded data removed]",
      "text/plain": [
       "<Figure size 720x432 with 1 Axes>"
      ]
     },
     "metadata": {
      "needs_background": "light"
     },
     "output_type": "display_data"
    }
   ],
   "source": [
    "hh_tlt_n_wtr_src_cnt = pd.crosstab(index=raw_data[\"Has Water Source\"], columns=raw_data[\"Has Toilet\"])\n",
    "print(hh_tlt_n_wtr_src_cnt)\n",
    "hh_tlt_n_wtr_src_cnt.plot.barh(figsize=[10,6],\n",
    "                               title=\"Availability of Water Source in households of different social categories\",\n",
    "                               table=False)"
   ]
  },
  {
   "cell_type": "markdown",
   "metadata": {},
   "source": [
    "#### Observation:\n",
    "1. Handpump is the major source of water in households (55% of households use handpumps)\n",
    "2. Water Supply scheme is available in only 29.7% ~ 30% of the households and the remaining.\n",
    "3. 14% of the households rely on wells\n",
    "4. Around 5.56 Lakh households having toilets has no water source"
   ]
  },
  {
   "cell_type": "markdown",
   "metadata": {},
   "source": [
    "# Section 3: Status of toilets across State and Districts"
   ]
  },
  {
   "cell_type": "code",
   "execution_count": 39,
   "metadata": {},
   "outputs": [],
   "source": [
    "raw_data['State']= \"Madhya Pradesh\""
   ]
  },
  {
   "cell_type": "code",
   "execution_count": 40,
   "metadata": {},
   "outputs": [],
   "source": [
    "raw_data['% Headed by Women'] = raw_data['Sub-category'].apply(lambda x: 100 if (x==\"Women Headed HH\") else 0)"
   ]
  },
  {
   "cell_type": "code",
   "execution_count": 41,
   "metadata": {},
   "outputs": [],
   "source": [
    "raw_data['% Headed by PH'] = raw_data['Sub-category'].apply(lambda x: 100 if (x==\"PH\") else 0)"
   ]
  },
  {
   "cell_type": "code",
   "execution_count": 42,
   "metadata": {},
   "outputs": [],
   "source": [
    "raw_data['% Having No Toilet'] = pd.to_numeric(raw_data['Has Toilet'].apply(lambda x: 100 if (x==\"नहीं\") else 0))"
   ]
  },
  {
   "cell_type": "code",
   "execution_count": 43,
   "metadata": {},
   "outputs": [],
   "source": [
    "raw_data['% Having No Water Source'] = pd.to_numeric(raw_data['Has Water Source'].apply(lambda x: 100 if (x==\"नहीं\") else 0))"
   ]
  },
  {
   "cell_type": "code",
   "execution_count": 44,
   "metadata": {},
   "outputs": [],
   "source": [
    "raw_data['Total Household'] = 1"
   ]
  },
  {
   "cell_type": "code",
   "execution_count": 45,
   "metadata": {},
   "outputs": [],
   "source": [
    "raw_data['% Households having Toilet but no Water Source'] = np.where((raw_data['Has Toilet']==\"हाँ\") & (raw_data['Has Water Source']=='नहीं'),100,0)"
   ]
  },
  {
   "cell_type": "code",
   "execution_count": 47,
   "metadata": {},
   "outputs": [
    {
     "data": {
      "text/html": [
       "<div>\n",
       "<style scoped>\n",
       "    .dataframe tbody tr th:only-of-type {\n",
       "        vertical-align: middle;\n",
       "    }\n",
       "\n",
       "    .dataframe tbody tr th {\n",
       "        vertical-align: top;\n",
       "    }\n",
       "\n",
       "    .dataframe thead th {\n",
       "        text-align: right;\n",
       "    }\n",
       "</style>\n",
       "<table border=\"1\" class=\"dataframe\">\n",
       "  <thead>\n",
       "    <tr style=\"text-align: right;\">\n",
       "      <th></th>\n",
       "      <th></th>\n",
       "      <th>% Having No Toilet</th>\n",
       "      <th>% Having No Water Source</th>\n",
       "      <th>% Headed by PH</th>\n",
       "      <th>% Headed by Women</th>\n",
       "      <th>% Households having Toilet but no Water Source</th>\n",
       "      <th>Total Household</th>\n",
       "    </tr>\n",
       "    <tr>\n",
       "      <th>State</th>\n",
       "      <th>District</th>\n",
       "      <th></th>\n",
       "      <th></th>\n",
       "      <th></th>\n",
       "      <th></th>\n",
       "      <th></th>\n",
       "      <th></th>\n",
       "    </tr>\n",
       "  </thead>\n",
       "  <tbody>\n",
       "    <tr>\n",
       "      <th rowspan=\"51\" valign=\"top\">Madhya Pradesh</th>\n",
       "      <th>AGAR MALWA</th>\n",
       "      <td>3.833214</td>\n",
       "      <td>6.150549</td>\n",
       "      <td>0.146782</td>\n",
       "      <td>1.345717</td>\n",
       "      <td>2.881081</td>\n",
       "      <td>76985</td>\n",
       "    </tr>\n",
       "    <tr>\n",
       "      <th>ALIRAJPUR</th>\n",
       "      <td>0.953950</td>\n",
       "      <td>3.419390</td>\n",
       "      <td>0.150142</td>\n",
       "      <td>2.112973</td>\n",
       "      <td>2.626568</td>\n",
       "      <td>109230</td>\n",
       "    </tr>\n",
       "    <tr>\n",
       "      <th>ANUPPUR</th>\n",
       "      <td>3.615544</td>\n",
       "      <td>21.898702</td>\n",
       "      <td>0.325928</td>\n",
       "      <td>4.355816</td>\n",
       "      <td>18.368108</td>\n",
       "      <td>115363</td>\n",
       "    </tr>\n",
       "    <tr>\n",
       "      <th>ASHOKNAGAR</th>\n",
       "      <td>1.028340</td>\n",
       "      <td>4.421422</td>\n",
       "      <td>0.285041</td>\n",
       "      <td>1.732171</td>\n",
       "      <td>3.450090</td>\n",
       "      <td>91215</td>\n",
       "    </tr>\n",
       "    <tr>\n",
       "      <th>BALAGHAT</th>\n",
       "      <td>6.258527</td>\n",
       "      <td>12.600819</td>\n",
       "      <td>0.153263</td>\n",
       "      <td>1.851953</td>\n",
       "      <td>6.665277</td>\n",
       "      <td>273387</td>\n",
       "    </tr>\n",
       "    <tr>\n",
       "      <th>BARWANI</th>\n",
       "      <td>9.419350</td>\n",
       "      <td>17.138339</td>\n",
       "      <td>0.062358</td>\n",
       "      <td>0.917549</td>\n",
       "      <td>7.968420</td>\n",
       "      <td>179609</td>\n",
       "    </tr>\n",
       "    <tr>\n",
       "      <th>BETUL</th>\n",
       "      <td>3.776404</td>\n",
       "      <td>8.786625</td>\n",
       "      <td>0.283754</td>\n",
       "      <td>3.003504</td>\n",
       "      <td>5.172783</td>\n",
       "      <td>205460</td>\n",
       "    </tr>\n",
       "    <tr>\n",
       "      <th>BHIND</th>\n",
       "      <td>2.586091</td>\n",
       "      <td>3.218545</td>\n",
       "      <td>0.344684</td>\n",
       "      <td>3.668106</td>\n",
       "      <td>0.867146</td>\n",
       "      <td>156375</td>\n",
       "    </tr>\n",
       "    <tr>\n",
       "      <th>BHOPAL</th>\n",
       "      <td>1.849356</td>\n",
       "      <td>3.531161</td>\n",
       "      <td>0.294788</td>\n",
       "      <td>1.473941</td>\n",
       "      <td>1.720858</td>\n",
       "      <td>79379</td>\n",
       "    </tr>\n",
       "    <tr>\n",
       "      <th>BURHANPUR</th>\n",
       "      <td>4.769387</td>\n",
       "      <td>10.227891</td>\n",
       "      <td>0.069351</td>\n",
       "      <td>1.119265</td>\n",
       "      <td>5.545411</td>\n",
       "      <td>113914</td>\n",
       "    </tr>\n",
       "    <tr>\n",
       "      <th>CHHATARPUR</th>\n",
       "      <td>9.499232</td>\n",
       "      <td>20.025465</td>\n",
       "      <td>0.485616</td>\n",
       "      <td>3.227792</td>\n",
       "      <td>11.014479</td>\n",
       "      <td>190068</td>\n",
       "    </tr>\n",
       "    <tr>\n",
       "      <th>CHHINDWARA</th>\n",
       "      <td>1.798628</td>\n",
       "      <td>5.060058</td>\n",
       "      <td>0.449114</td>\n",
       "      <td>3.148453</td>\n",
       "      <td>3.327850</td>\n",
       "      <td>322190</td>\n",
       "    </tr>\n",
       "    <tr>\n",
       "      <th>DAMOH</th>\n",
       "      <td>7.731420</td>\n",
       "      <td>18.816605</td>\n",
       "      <td>0.319406</td>\n",
       "      <td>2.642315</td>\n",
       "      <td>11.237923</td>\n",
       "      <td>200998</td>\n",
       "    </tr>\n",
       "    <tr>\n",
       "      <th>DATIA</th>\n",
       "      <td>4.531905</td>\n",
       "      <td>5.863504</td>\n",
       "      <td>0.216680</td>\n",
       "      <td>2.178623</td>\n",
       "      <td>1.567979</td>\n",
       "      <td>76149</td>\n",
       "    </tr>\n",
       "    <tr>\n",
       "      <th>DEWAS</th>\n",
       "      <td>4.204655</td>\n",
       "      <td>6.218983</td>\n",
       "      <td>0.207233</td>\n",
       "      <td>2.097618</td>\n",
       "      <td>2.254282</td>\n",
       "      <td>201705</td>\n",
       "    </tr>\n",
       "    <tr>\n",
       "      <th>DHAR</th>\n",
       "      <td>0.981030</td>\n",
       "      <td>2.619847</td>\n",
       "      <td>0.171552</td>\n",
       "      <td>2.000068</td>\n",
       "      <td>1.700452</td>\n",
       "      <td>292040</td>\n",
       "    </tr>\n",
       "    <tr>\n",
       "      <th>DINDORI</th>\n",
       "      <td>7.841088</td>\n",
       "      <td>20.269864</td>\n",
       "      <td>0.115012</td>\n",
       "      <td>2.055176</td>\n",
       "      <td>12.555063</td>\n",
       "      <td>133030</td>\n",
       "    </tr>\n",
       "    <tr>\n",
       "      <th>GUNA</th>\n",
       "      <td>7.025674</td>\n",
       "      <td>16.065921</td>\n",
       "      <td>0.206375</td>\n",
       "      <td>1.633115</td>\n",
       "      <td>9.229485</td>\n",
       "      <td>134222</td>\n",
       "    </tr>\n",
       "    <tr>\n",
       "      <th>GWALIOR</th>\n",
       "      <td>1.218779</td>\n",
       "      <td>1.913615</td>\n",
       "      <td>0.234742</td>\n",
       "      <td>2.025352</td>\n",
       "      <td>0.984977</td>\n",
       "      <td>106500</td>\n",
       "    </tr>\n",
       "    <tr>\n",
       "      <th>HARDA</th>\n",
       "      <td>1.936637</td>\n",
       "      <td>5.483277</td>\n",
       "      <td>0.093797</td>\n",
       "      <td>0.577129</td>\n",
       "      <td>3.631609</td>\n",
       "      <td>90621</td>\n",
       "    </tr>\n",
       "    <tr>\n",
       "      <th>HOSHANGABAD</th>\n",
       "      <td>2.428676</td>\n",
       "      <td>5.937459</td>\n",
       "      <td>0.240302</td>\n",
       "      <td>1.355453</td>\n",
       "      <td>3.638946</td>\n",
       "      <td>159799</td>\n",
       "    </tr>\n",
       "    <tr>\n",
       "      <th>INDORE</th>\n",
       "      <td>0.330745</td>\n",
       "      <td>0.703235</td>\n",
       "      <td>0.098902</td>\n",
       "      <td>1.056458</td>\n",
       "      <td>0.388545</td>\n",
       "      <td>155709</td>\n",
       "    </tr>\n",
       "    <tr>\n",
       "      <th>JABALPUR</th>\n",
       "      <td>23.269883</td>\n",
       "      <td>33.754946</td>\n",
       "      <td>0.250033</td>\n",
       "      <td>2.151911</td>\n",
       "      <td>11.110688</td>\n",
       "      <td>183976</td>\n",
       "    </tr>\n",
       "    <tr>\n",
       "      <th>JHABUA</th>\n",
       "      <td>1.891071</td>\n",
       "      <td>8.230995</td>\n",
       "      <td>0.516979</td>\n",
       "      <td>1.699437</td>\n",
       "      <td>6.477334</td>\n",
       "      <td>162289</td>\n",
       "    </tr>\n",
       "    <tr>\n",
       "      <th>KATNI</th>\n",
       "      <td>4.100503</td>\n",
       "      <td>11.610048</td>\n",
       "      <td>0.283093</td>\n",
       "      <td>2.206169</td>\n",
       "      <td>7.676038</td>\n",
       "      <td>184392</td>\n",
       "    </tr>\n",
       "    <tr>\n",
       "      <th>KHANDWA</th>\n",
       "      <td>3.766577</td>\n",
       "      <td>6.912098</td>\n",
       "      <td>0.298149</td>\n",
       "      <td>2.934547</td>\n",
       "      <td>3.554056</td>\n",
       "      <td>193863</td>\n",
       "    </tr>\n",
       "    <tr>\n",
       "      <th>KHARGONE</th>\n",
       "      <td>9.291793</td>\n",
       "      <td>17.694603</td>\n",
       "      <td>0.491337</td>\n",
       "      <td>3.113383</td>\n",
       "      <td>8.643297</td>\n",
       "      <td>231613</td>\n",
       "    </tr>\n",
       "    <tr>\n",
       "      <th>MANDLA</th>\n",
       "      <td>8.537025</td>\n",
       "      <td>24.460321</td>\n",
       "      <td>0.351304</td>\n",
       "      <td>3.309468</td>\n",
       "      <td>16.201967</td>\n",
       "      <td>202389</td>\n",
       "    </tr>\n",
       "    <tr>\n",
       "      <th>MANDSAUR</th>\n",
       "      <td>2.998116</td>\n",
       "      <td>6.154085</td>\n",
       "      <td>0.326941</td>\n",
       "      <td>2.762676</td>\n",
       "      <td>3.416558</td>\n",
       "      <td>186884</td>\n",
       "    </tr>\n",
       "    <tr>\n",
       "      <th>MORENA</th>\n",
       "      <td>3.182942</td>\n",
       "      <td>4.502400</td>\n",
       "      <td>0.384483</td>\n",
       "      <td>3.224624</td>\n",
       "      <td>1.475407</td>\n",
       "      <td>139148</td>\n",
       "    </tr>\n",
       "    <tr>\n",
       "      <th>NARSINGHPUR</th>\n",
       "      <td>1.229253</td>\n",
       "      <td>3.658556</td>\n",
       "      <td>0.348820</td>\n",
       "      <td>1.363373</td>\n",
       "      <td>2.495822</td>\n",
       "      <td>184909</td>\n",
       "    </tr>\n",
       "    <tr>\n",
       "      <th>NEEMUCH</th>\n",
       "      <td>2.532216</td>\n",
       "      <td>9.063230</td>\n",
       "      <td>0.444907</td>\n",
       "      <td>2.530071</td>\n",
       "      <td>6.835481</td>\n",
       "      <td>93278</td>\n",
       "    </tr>\n",
       "    <tr>\n",
       "      <th>PANNA</th>\n",
       "      <td>5.980607</td>\n",
       "      <td>12.085364</td>\n",
       "      <td>0.243306</td>\n",
       "      <td>1.844413</td>\n",
       "      <td>6.271717</td>\n",
       "      <td>140153</td>\n",
       "    </tr>\n",
       "    <tr>\n",
       "      <th>RAISEN</th>\n",
       "      <td>3.004990</td>\n",
       "      <td>5.607133</td>\n",
       "      <td>0.370128</td>\n",
       "      <td>1.977935</td>\n",
       "      <td>3.066337</td>\n",
       "      <td>195608</td>\n",
       "    </tr>\n",
       "    <tr>\n",
       "      <th>RAJGARH</th>\n",
       "      <td>7.404013</td>\n",
       "      <td>14.571635</td>\n",
       "      <td>0.385230</td>\n",
       "      <td>2.412360</td>\n",
       "      <td>7.587873</td>\n",
       "      <td>171326</td>\n",
       "    </tr>\n",
       "    <tr>\n",
       "      <th>RATLAM</th>\n",
       "      <td>1.144240</td>\n",
       "      <td>3.877441</td>\n",
       "      <td>0.245445</td>\n",
       "      <td>2.696969</td>\n",
       "      <td>2.775862</td>\n",
       "      <td>171118</td>\n",
       "    </tr>\n",
       "    <tr>\n",
       "      <th>REWA</th>\n",
       "      <td>9.643059</td>\n",
       "      <td>18.882125</td>\n",
       "      <td>0.258911</td>\n",
       "      <td>2.661647</td>\n",
       "      <td>9.535825</td>\n",
       "      <td>348769</td>\n",
       "    </tr>\n",
       "    <tr>\n",
       "      <th>SAGAR</th>\n",
       "      <td>2.100045</td>\n",
       "      <td>6.451079</td>\n",
       "      <td>0.260482</td>\n",
       "      <td>2.386500</td>\n",
       "      <td>4.454173</td>\n",
       "      <td>265661</td>\n",
       "    </tr>\n",
       "    <tr>\n",
       "      <th>SATNA</th>\n",
       "      <td>8.907510</td>\n",
       "      <td>22.415462</td>\n",
       "      <td>0.276151</td>\n",
       "      <td>2.290570</td>\n",
       "      <td>13.803701</td>\n",
       "      <td>336772</td>\n",
       "    </tr>\n",
       "    <tr>\n",
       "      <th>SEHORE</th>\n",
       "      <td>1.255013</td>\n",
       "      <td>4.216013</td>\n",
       "      <td>0.322407</td>\n",
       "      <td>1.163532</td>\n",
       "      <td>3.048030</td>\n",
       "      <td>202229</td>\n",
       "    </tr>\n",
       "    <tr>\n",
       "      <th>SEONI</th>\n",
       "      <td>15.107854</td>\n",
       "      <td>27.777583</td>\n",
       "      <td>0.572204</td>\n",
       "      <td>3.279524</td>\n",
       "      <td>13.096576</td>\n",
       "      <td>227716</td>\n",
       "    </tr>\n",
       "    <tr>\n",
       "      <th>SHAHDOL</th>\n",
       "      <td>1.656705</td>\n",
       "      <td>7.102718</td>\n",
       "      <td>0.357419</td>\n",
       "      <td>2.599234</td>\n",
       "      <td>5.526763</td>\n",
       "      <td>151083</td>\n",
       "    </tr>\n",
       "    <tr>\n",
       "      <th>SHAJAPUR</th>\n",
       "      <td>0.628987</td>\n",
       "      <td>1.609793</td>\n",
       "      <td>0.190079</td>\n",
       "      <td>1.546894</td>\n",
       "      <td>1.054763</td>\n",
       "      <td>144677</td>\n",
       "    </tr>\n",
       "    <tr>\n",
       "      <th>SHEOPUR</th>\n",
       "      <td>1.033273</td>\n",
       "      <td>1.548867</td>\n",
       "      <td>0.308938</td>\n",
       "      <td>2.661462</td>\n",
       "      <td>0.851668</td>\n",
       "      <td>95812</td>\n",
       "    </tr>\n",
       "    <tr>\n",
       "      <th>SHIVPURI</th>\n",
       "      <td>8.493930</td>\n",
       "      <td>14.273378</td>\n",
       "      <td>0.290547</td>\n",
       "      <td>2.562097</td>\n",
       "      <td>6.000406</td>\n",
       "      <td>196870</td>\n",
       "    </tr>\n",
       "    <tr>\n",
       "      <th>SIDHI</th>\n",
       "      <td>4.524185</td>\n",
       "      <td>13.293284</td>\n",
       "      <td>0.663423</td>\n",
       "      <td>3.490263</td>\n",
       "      <td>8.949694</td>\n",
       "      <td>161134</td>\n",
       "    </tr>\n",
       "    <tr>\n",
       "      <th>SINGROULI</th>\n",
       "      <td>4.607921</td>\n",
       "      <td>19.394490</td>\n",
       "      <td>0.301342</td>\n",
       "      <td>2.174123</td>\n",
       "      <td>14.881063</td>\n",
       "      <td>134399</td>\n",
       "    </tr>\n",
       "    <tr>\n",
       "      <th>TIKAMGARH</th>\n",
       "      <td>1.536847</td>\n",
       "      <td>3.471882</td>\n",
       "      <td>0.631510</td>\n",
       "      <td>2.565975</td>\n",
       "      <td>1.999498</td>\n",
       "      <td>175294</td>\n",
       "    </tr>\n",
       "    <tr>\n",
       "      <th>UJJAIN</th>\n",
       "      <td>2.054726</td>\n",
       "      <td>3.184233</td>\n",
       "      <td>0.191964</td>\n",
       "      <td>1.931490</td>\n",
       "      <td>1.190651</td>\n",
       "      <td>210977</td>\n",
       "    </tr>\n",
       "    <tr>\n",
       "      <th>UMARIA</th>\n",
       "      <td>6.991193</td>\n",
       "      <td>19.559731</td>\n",
       "      <td>0.111486</td>\n",
       "      <td>1.303374</td>\n",
       "      <td>13.031713</td>\n",
       "      <td>98667</td>\n",
       "    </tr>\n",
       "    <tr>\n",
       "      <th>VIDISHA</th>\n",
       "      <td>7.955889</td>\n",
       "      <td>12.889580</td>\n",
       "      <td>0.436024</td>\n",
       "      <td>2.209529</td>\n",
       "      <td>5.360102</td>\n",
       "      <td>176825</td>\n",
       "    </tr>\n",
       "    <tr>\n",
       "      <th>All</th>\n",
       "      <th></th>\n",
       "      <td>5.154069</td>\n",
       "      <td>11.232561</td>\n",
       "      <td>0.304661</td>\n",
       "      <td>2.322239</td>\n",
       "      <td>6.295957</td>\n",
       "      <td>8831779</td>\n",
       "    </tr>\n",
       "  </tbody>\n",
       "</table>\n",
       "</div>"
      ],
      "text/plain": [
       "                            % Having No Toilet  % Having No Water Source  \\\n",
       "State          District                                                    \n",
       "Madhya Pradesh AGAR MALWA             3.833214                  6.150549   \n",
       "               ALIRAJPUR              0.953950                  3.419390   \n",
       "               ANUPPUR                3.615544                 21.898702   \n",
       "               ASHOKNAGAR             1.028340                  4.421422   \n",
       "               BALAGHAT               6.258527                 12.600819   \n",
       "               BARWANI                9.419350                 17.138339   \n",
       "               BETUL                  3.776404                  8.786625   \n",
       "               BHIND                  2.586091                  3.218545   \n",
       "               BHOPAL                 1.849356                  3.531161   \n",
       "               BURHANPUR              4.769387                 10.227891   \n",
       "               CHHATARPUR             9.499232                 20.025465   \n",
       "               CHHINDWARA             1.798628                  5.060058   \n",
       "               DAMOH                  7.731420                 18.816605   \n",
       "               DATIA                  4.531905                  5.863504   \n",
       "               DEWAS                  4.204655                  6.218983   \n",
       "               DHAR                   0.981030                  2.619847   \n",
       "               DINDORI                7.841088                 20.269864   \n",
       "               GUNA                   7.025674                 16.065921   \n",
       "               GWALIOR                1.218779                  1.913615   \n",
       "               HARDA                  1.936637                  5.483277   \n",
       "               HOSHANGABAD            2.428676                  5.937459   \n",
       "               INDORE                 0.330745                  0.703235   \n",
       "               JABALPUR              23.269883                 33.754946   \n",
       "               JHABUA                 1.891071                  8.230995   \n",
       "               KATNI                  4.100503                 11.610048   \n",
       "               KHANDWA                3.766577                  6.912098   \n",
       "               KHARGONE               9.291793                 17.694603   \n",
       "               MANDLA                 8.537025                 24.460321   \n",
       "               MANDSAUR               2.998116                  6.154085   \n",
       "               MORENA                 3.182942                  4.502400   \n",
       "               NARSINGHPUR            1.229253                  3.658556   \n",
       "               NEEMUCH                2.532216                  9.063230   \n",
       "               PANNA                  5.980607                 12.085364   \n",
       "               RAISEN                 3.004990                  5.607133   \n",
       "               RAJGARH                7.404013                 14.571635   \n",
       "               RATLAM                 1.144240                  3.877441   \n",
       "               REWA                   9.643059                 18.882125   \n",
       "               SAGAR                  2.100045                  6.451079   \n",
       "               SATNA                  8.907510                 22.415462   \n",
       "               SEHORE                 1.255013                  4.216013   \n",
       "               SEONI                 15.107854                 27.777583   \n",
       "               SHAHDOL                1.656705                  7.102718   \n",
       "               SHAJAPUR               0.628987                  1.609793   \n",
       "               SHEOPUR                1.033273                  1.548867   \n",
       "               SHIVPURI               8.493930                 14.273378   \n",
       "               SIDHI                  4.524185                 13.293284   \n",
       "               SINGROULI              4.607921                 19.394490   \n",
       "               TIKAMGARH              1.536847                  3.471882   \n",
       "               UJJAIN                 2.054726                  3.184233   \n",
       "               UMARIA                 6.991193                 19.559731   \n",
       "               VIDISHA                7.955889                 12.889580   \n",
       "All                                   5.154069                 11.232561   \n",
       "\n",
       "                            % Headed by PH  % Headed by Women  \\\n",
       "State          District                                         \n",
       "Madhya Pradesh AGAR MALWA         0.146782           1.345717   \n",
       "               ALIRAJPUR          0.150142           2.112973   \n",
       "               ANUPPUR            0.325928           4.355816   \n",
       "               ASHOKNAGAR         0.285041           1.732171   \n",
       "               BALAGHAT           0.153263           1.851953   \n",
       "               BARWANI            0.062358           0.917549   \n",
       "               BETUL              0.283754           3.003504   \n",
       "               BHIND              0.344684           3.668106   \n",
       "               BHOPAL             0.294788           1.473941   \n",
       "               BURHANPUR          0.069351           1.119265   \n",
       "               CHHATARPUR         0.485616           3.227792   \n",
       "               CHHINDWARA         0.449114           3.148453   \n",
       "               DAMOH              0.319406           2.642315   \n",
       "               DATIA              0.216680           2.178623   \n",
       "               DEWAS              0.207233           2.097618   \n",
       "               DHAR               0.171552           2.000068   \n",
       "               DINDORI            0.115012           2.055176   \n",
       "               GUNA               0.206375           1.633115   \n",
       "               GWALIOR            0.234742           2.025352   \n",
       "               HARDA              0.093797           0.577129   \n",
       "               HOSHANGABAD        0.240302           1.355453   \n",
       "               INDORE             0.098902           1.056458   \n",
       "               JABALPUR           0.250033           2.151911   \n",
       "               JHABUA             0.516979           1.699437   \n",
       "               KATNI              0.283093           2.206169   \n",
       "               KHANDWA            0.298149           2.934547   \n",
       "               KHARGONE           0.491337           3.113383   \n",
       "               MANDLA             0.351304           3.309468   \n",
       "               MANDSAUR           0.326941           2.762676   \n",
       "               MORENA             0.384483           3.224624   \n",
       "               NARSINGHPUR        0.348820           1.363373   \n",
       "               NEEMUCH            0.444907           2.530071   \n",
       "               PANNA              0.243306           1.844413   \n",
       "               RAISEN             0.370128           1.977935   \n",
       "               RAJGARH            0.385230           2.412360   \n",
       "               RATLAM             0.245445           2.696969   \n",
       "               REWA               0.258911           2.661647   \n",
       "               SAGAR              0.260482           2.386500   \n",
       "               SATNA              0.276151           2.290570   \n",
       "               SEHORE             0.322407           1.163532   \n",
       "               SEONI              0.572204           3.279524   \n",
       "               SHAHDOL            0.357419           2.599234   \n",
       "               SHAJAPUR           0.190079           1.546894   \n",
       "               SHEOPUR            0.308938           2.661462   \n",
       "               SHIVPURI           0.290547           2.562097   \n",
       "               SIDHI              0.663423           3.490263   \n",
       "               SINGROULI          0.301342           2.174123   \n",
       "               TIKAMGARH          0.631510           2.565975   \n",
       "               UJJAIN             0.191964           1.931490   \n",
       "               UMARIA             0.111486           1.303374   \n",
       "               VIDISHA            0.436024           2.209529   \n",
       "All                               0.304661           2.322239   \n",
       "\n",
       "                            % Households having Toilet but no Water Source  \\\n",
       "State          District                                                      \n",
       "Madhya Pradesh AGAR MALWA                                         2.881081   \n",
       "               ALIRAJPUR                                          2.626568   \n",
       "               ANUPPUR                                           18.368108   \n",
       "               ASHOKNAGAR                                         3.450090   \n",
       "               BALAGHAT                                           6.665277   \n",
       "               BARWANI                                            7.968420   \n",
       "               BETUL                                              5.172783   \n",
       "               BHIND                                              0.867146   \n",
       "               BHOPAL                                             1.720858   \n",
       "               BURHANPUR                                          5.545411   \n",
       "               CHHATARPUR                                        11.014479   \n",
       "               CHHINDWARA                                         3.327850   \n",
       "               DAMOH                                             11.237923   \n",
       "               DATIA                                              1.567979   \n",
       "               DEWAS                                              2.254282   \n",
       "               DHAR                                               1.700452   \n",
       "               DINDORI                                           12.555063   \n",
       "               GUNA                                               9.229485   \n",
       "               GWALIOR                                            0.984977   \n",
       "               HARDA                                              3.631609   \n",
       "               HOSHANGABAD                                        3.638946   \n",
       "               INDORE                                             0.388545   \n",
       "               JABALPUR                                          11.110688   \n",
       "               JHABUA                                             6.477334   \n",
       "               KATNI                                              7.676038   \n",
       "               KHANDWA                                            3.554056   \n",
       "               KHARGONE                                           8.643297   \n",
       "               MANDLA                                            16.201967   \n",
       "               MANDSAUR                                           3.416558   \n",
       "               MORENA                                             1.475407   \n",
       "               NARSINGHPUR                                        2.495822   \n",
       "               NEEMUCH                                            6.835481   \n",
       "               PANNA                                              6.271717   \n",
       "               RAISEN                                             3.066337   \n",
       "               RAJGARH                                            7.587873   \n",
       "               RATLAM                                             2.775862   \n",
       "               REWA                                               9.535825   \n",
       "               SAGAR                                              4.454173   \n",
       "               SATNA                                             13.803701   \n",
       "               SEHORE                                             3.048030   \n",
       "               SEONI                                             13.096576   \n",
       "               SHAHDOL                                            5.526763   \n",
       "               SHAJAPUR                                           1.054763   \n",
       "               SHEOPUR                                            0.851668   \n",
       "               SHIVPURI                                           6.000406   \n",
       "               SIDHI                                              8.949694   \n",
       "               SINGROULI                                         14.881063   \n",
       "               TIKAMGARH                                          1.999498   \n",
       "               UJJAIN                                             1.190651   \n",
       "               UMARIA                                            13.031713   \n",
       "               VIDISHA                                            5.360102   \n",
       "All                                                               6.295957   \n",
       "\n",
       "                            Total Household  \n",
       "State          District                      \n",
       "Madhya Pradesh AGAR MALWA             76985  \n",
       "               ALIRAJPUR             109230  \n",
       "               ANUPPUR               115363  \n",
       "               ASHOKNAGAR             91215  \n",
       "               BALAGHAT              273387  \n",
       "               BARWANI               179609  \n",
       "               BETUL                 205460  \n",
       "               BHIND                 156375  \n",
       "               BHOPAL                 79379  \n",
       "               BURHANPUR             113914  \n",
       "               CHHATARPUR            190068  \n",
       "               CHHINDWARA            322190  \n",
       "               DAMOH                 200998  \n",
       "               DATIA                  76149  \n",
       "               DEWAS                 201705  \n",
       "               DHAR                  292040  \n",
       "               DINDORI               133030  \n",
       "               GUNA                  134222  \n",
       "               GWALIOR               106500  \n",
       "               HARDA                  90621  \n",
       "               HOSHANGABAD           159799  \n",
       "               INDORE                155709  \n",
       "               JABALPUR              183976  \n",
       "               JHABUA                162289  \n",
       "               KATNI                 184392  \n",
       "               KHANDWA               193863  \n",
       "               KHARGONE              231613  \n",
       "               MANDLA                202389  \n",
       "               MANDSAUR              186884  \n",
       "               MORENA                139148  \n",
       "               NARSINGHPUR           184909  \n",
       "               NEEMUCH                93278  \n",
       "               PANNA                 140153  \n",
       "               RAISEN                195608  \n",
       "               RAJGARH               171326  \n",
       "               RATLAM                171118  \n",
       "               REWA                  348769  \n",
       "               SAGAR                 265661  \n",
       "               SATNA                 336772  \n",
       "               SEHORE                202229  \n",
       "               SEONI                 227716  \n",
       "               SHAHDOL               151083  \n",
       "               SHAJAPUR              144677  \n",
       "               SHEOPUR                95812  \n",
       "               SHIVPURI              196870  \n",
       "               SIDHI                 161134  \n",
       "               SINGROULI             134399  \n",
       "               TIKAMGARH             175294  \n",
       "               UJJAIN                210977  \n",
       "               UMARIA                 98667  \n",
       "               VIDISHA               176825  \n",
       "All                                 8831779  "
      ]
     },
     "execution_count": 47,
     "metadata": {},
     "output_type": "execute_result"
    }
   ],
   "source": [
    "raw_data.pivot_table(index=['State','District'], \n",
    "                     values=['Total Household', \n",
    "                             '% Headed by Women', \n",
    "                             '% Headed by PH', \n",
    "                             '% Having No Toilet', \n",
    "                             '% Having No Water Source',\n",
    "                            '% Households having Toilet but no Water Source'],\n",
    "                     aggfunc={'Total Household':np.sum, \n",
    "                              '% Headed by Women':np.mean, \n",
    "                              '% Headed by PH':np.mean, \n",
    "                              '% Having No Toilet':np.mean, \n",
    "                              '% Having No Water Source':np.mean,\n",
    "                             '% Households having Toilet but no Water Source':np.mean},\n",
    "                    margins=True)"
   ]
  },
  {
   "cell_type": "markdown",
   "metadata": {},
   "source": [
    "#### Observations\n",
    "1. In Jabalpur 23.27% of the households do not have toilet, followed by Seoni with 15.1% such households\n",
    "2. Again, Jabalpur and Seoni are the two districts with highest % of households without any source of water (with 33.75% and 27.78% respectively)\n",
    "3. Anuppur and Mandala districts have the highest proportion of households having a toilet but no water source (with 18.37% and 16.2% respectively)"
   ]
  }
 ],
 "metadata": {
  "kernelspec": {
   "display_name": "Python 3",
   "language": "python",
   "name": "python3"
  },
  "language_info": {
   "codemirror_mode": {
    "name": "ipython",
    "version": 3
   },
   "file_extension": ".py",
   "mimetype": "text/x-python",
   "name": "python",
   "nbconvert_exporter": "python",
   "pygments_lexer": "ipython3",
   "version": "3.7.3"
  }
 },
 "nbformat": 4,
 "nbformat_minor": 2
}
